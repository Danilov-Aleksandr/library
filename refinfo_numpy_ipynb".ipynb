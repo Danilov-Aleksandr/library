{
  "nbformat": 4,
  "nbformat_minor": 0,
  "metadata": {
    "colab": {
      "name": "refinfo_numpy.ipynb\"",
      "provenance": [],
      "collapsed_sections": [],
      "include_colab_link": true
    },
    "kernelspec": {
      "name": "python3",
      "display_name": "Python 3"
    }
  },
  "cells": [
    {
      "cell_type": "markdown",
      "metadata": {
        "id": "view-in-github",
        "colab_type": "text"
      },
      "source": [
        "<a href=\"https://colab.research.google.com/github/Danilov-Aleksandr/library/blob/master/refinfo_numpy_ipynb%22.ipynb\" target=\"_parent\"><img src=\"https://colab.research.google.com/assets/colab-badge.svg\" alt=\"Open In Colab\"/></a>"
      ]
    },
    {
      "cell_type": "markdown",
      "metadata": {
        "id": "xeGqjnzIdrho",
        "colab_type": "text"
      },
      "source": [
        "##Numpy"
      ]
    },
    {
      "cell_type": "markdown",
      "metadata": {
        "id": "0Gw7Fen6drhp",
        "colab_type": "text"
      },
      "source": [
        "Сначала необходимо импортировать библиотеку:"
      ]
    },
    {
      "cell_type": "code",
      "metadata": {
        "id": "IVZNuYatdrhp",
        "colab_type": "code",
        "colab": {}
      },
      "source": [
        "import numpy as np"
      ],
      "execution_count": null,
      "outputs": []
    },
    {
      "cell_type": "markdown",
      "metadata": {
        "id": "FjuNtOUudrhs",
        "colab_type": "text"
      },
      "source": [
        "###Arrays"
      ]
    },
    {
      "cell_type": "markdown",
      "metadata": {
        "id": "HrI2lnGfdrhs",
        "colab_type": "text"
      },
      "source": [
        "Numpy массив это матрица значений, одного типа и у каждого значения есть свой индекс, котороый не может быть отрицательным. Так же у каждой матрицы есть форма (shape), которая указывает сколько измерений у нашей матрицы.\n"
      ]
    },
    {
      "cell_type": "markdown",
      "metadata": {
        "id": "557BnU2ndrht",
        "colab_type": "text"
      },
      "source": [
        "Мы можем создать массив из обычного Python листа:"
      ]
    },
    {
      "cell_type": "code",
      "metadata": {
        "id": "3o8btobjdrht",
        "colab_type": "code",
        "colab": {}
      },
      "source": [
        "a = np.array([1, 2, 3])  # Создадим вектор\n",
        "print(type(a), a.shape, a[0], a[1], a[2])\n",
        "a[0] = 5                 # Попробуем поменять один из элементов вектора\n",
        "print (a)                  "
      ],
      "execution_count": null,
      "outputs": []
    },
    {
      "cell_type": "code",
      "metadata": {
        "id": "yIxri-4Mdrhu",
        "colab_type": "code",
        "colab": {}
      },
      "source": [
        "b = np.array([[1,2,3],[4,5,6]])   # Создадим матрицу \n",
        "print (b)"
      ],
      "execution_count": null,
      "outputs": []
    },
    {
      "cell_type": "code",
      "metadata": {
        "id": "GuE_AK9Bdrhw",
        "colab_type": "code",
        "colab": {}
      },
      "source": [
        "print (b.shape)                 \n",
        "print (b[0, 0], b[0, 1], b[1, 0])"
      ],
      "execution_count": null,
      "outputs": []
    },
    {
      "cell_type": "markdown",
      "metadata": {
        "id": "29qf4iiudrhx",
        "colab_type": "text"
      },
      "source": [
        "Numpy так же предоставляет несколько функций для создания массивов:\n"
      ]
    },
    {
      "cell_type": "code",
      "metadata": {
        "id": "Yl8rgWzydrhy",
        "colab_type": "code",
        "colab": {}
      },
      "source": [
        "a = np.zeros((2,2))  # Создает массив из нулей\n",
        "print (a)"
      ],
      "execution_count": null,
      "outputs": []
    },
    {
      "cell_type": "code",
      "metadata": {
        "id": "kR7I89Gjdrhz",
        "colab_type": "code",
        "colab": {}
      },
      "source": [
        "b = np.ones((1,2))   # Создает массив из единиц\n",
        "print (b)"
      ],
      "execution_count": null,
      "outputs": []
    },
    {
      "cell_type": "code",
      "metadata": {
        "id": "TagaT-hjdrh3",
        "colab_type": "code",
        "colab": {}
      },
      "source": [
        "c = np.full((2,2), 7) # Создает массив, заполненный опредленным числом\n",
        "print (c) "
      ],
      "execution_count": null,
      "outputs": []
    },
    {
      "cell_type": "code",
      "metadata": {
        "id": "TMcag5-Ydrh5",
        "colab_type": "code",
        "colab": {}
      },
      "source": [
        "d = np.eye(2)        # Создает единичную матрицу размерностью 2х2\n",
        "print (d)"
      ],
      "execution_count": null,
      "outputs": []
    },
    {
      "cell_type": "code",
      "metadata": {
        "id": "acj-LM5Bdrh6",
        "colab_type": "code",
        "colab": {}
      },
      "source": [
        "e = np.random.random((2,2)) # Создает матрицу указанной размерности, заполненную случайными значениями от 0 до 1.\n",
        "print (e)"
      ],
      "execution_count": null,
      "outputs": []
    },
    {
      "cell_type": "markdown",
      "metadata": {
        "id": "xOU3XXy4drh-",
        "colab_type": "text"
      },
      "source": [
        "###Индексация массивов"
      ]
    },
    {
      "cell_type": "markdown",
      "metadata": {
        "id": "JYHx8tgZdrh-",
        "colab_type": "text"
      },
      "source": [
        "Numpy предоставляет несколько способов индексации массивов."
      ]
    },
    {
      "cell_type": "markdown",
      "metadata": {
        "id": "uhRcyqaYdriA",
        "colab_type": "text"
      },
      "source": [
        "Срезы: Аналогично обычным Python спискам, от numpy массивов могут быть взяты \n",
        "срезы. Так как массивы могут быть многомерными, необходимо указывать границы среза для каждого измерения."
      ]
    },
    {
      "cell_type": "code",
      "metadata": {
        "id": "UMAik0wCdriB",
        "colab_type": "code",
        "colab": {}
      },
      "source": [
        "import numpy as np\n",
        "\n",
        "# Создадим двумерный массив размерностью (3, 4)\n",
        "# [[ 1  2  3  4]\n",
        "#  [ 5  6  7  8]\n",
        "#  [ 9 10 11 12]]\n",
        "a = np.array([[1,2,3,4], [5,6,7,8], [9,10,11,12]])\n",
        "\n",
        "# Используя срезы, получим подмассив, состоящий из первых  2 строк\n",
        "# и столбцов 1 и 2; полученный массив будет иметь размерность (2, 2):\n",
        "# Напоминаю, что нумерация в python начинается с 0.\n",
        "# [[2 3]\n",
        "#  [6 7]]\n",
        "b = a[:2, 1:3]\n",
        "print (b)"
      ],
      "execution_count": null,
      "outputs": []
    },
    {
      "cell_type": "markdown",
      "metadata": {
        "id": "9BLUW3oXdriE",
        "colab_type": "text"
      },
      "source": [
        "Срез - это часть массива, поэтому если мы изменим данные в срезе, то и исходный массив изменится."
      ]
    },
    {
      "cell_type": "code",
      "metadata": {
        "id": "4h3Ic-EgdriE",
        "colab_type": "code",
        "colab": {}
      },
      "source": [
        "print (a[0, 1] ) \n",
        "b[0, 0] = 77    # b[0, 0] это тоже самое что и a[0, 1]\n",
        "print (a[0, 1]) "
      ],
      "execution_count": null,
      "outputs": []
    },
    {
      "cell_type": "markdown",
      "metadata": {
        "id": "K2zH26O-driG",
        "colab_type": "text"
      },
      "source": [
        "Также можно комбинировать индексацию и срезы:"
      ]
    },
    {
      "cell_type": "code",
      "metadata": {
        "id": "E-4YpbF8driG",
        "colab_type": "code",
        "colab": {}
      },
      "source": [
        "# Снова создадим матрицу размерностью (3, 4)\n",
        "a = np.array([[1,2,3,4], [5,6,7,8], [9,10,11,12]])\n",
        "print (a)"
      ],
      "execution_count": null,
      "outputs": []
    },
    {
      "cell_type": "markdown",
      "metadata": {
        "id": "d_jTLduFdriH",
        "colab_type": "text"
      },
      "source": [
        "Рассмотрим различные способы создания срезов:\n"
      ]
    },
    {
      "cell_type": "code",
      "metadata": {
        "id": "_GU5b3ajdriI",
        "colab_type": "code",
        "colab": {}
      },
      "source": [
        "row_r1 = a[1, :]     \n",
        "row_r2 = a[1:2, :]  \n",
        "row_r3 = a[[1], :]  \n",
        "print (row_r1, row_r1.shape) \n",
        "print (row_r2, row_r2.shape)\n",
        "print (row_r3, row_r3.shape)"
      ],
      "execution_count": null,
      "outputs": []
    },
    {
      "cell_type": "code",
      "metadata": {
        "id": "TA9V62xIdriK",
        "colab_type": "code",
        "colab": {}
      },
      "source": [
        "# Аналогично можно сделать и со строками:\n",
        "col_r1 = a[:, 1]\n",
        "col_r2 = a[:, 1:2]\n",
        "print (col_r1, col_r1.shape)\n",
        "print (col_r2, col_r2.shape)"
      ],
      "execution_count": null,
      "outputs": []
    },
    {
      "cell_type": "markdown",
      "metadata": {
        "id": "Zp0CQ0u7driL",
        "colab_type": "text"
      },
      "source": [
        "Срез является частью исходного массива. Но вы можете использовать значения исходного массива для создания нового массива."
      ]
    },
    {
      "cell_type": "code",
      "metadata": {
        "id": "mqgeYJ14driM",
        "colab_type": "code",
        "colab": {}
      },
      "source": [
        "a = np.array([[1,2], [3, 4], [5, 6]])\n",
        "\n",
        "# Рассмотрим пример\n",
        "# Получим массив размерностью (3, ) \n",
        "print (a[[0, 1, 2], [0, 1, 0]])\n",
        "\n",
        "# выражение выше можно записать немного по-другому\n",
        "print (np.array([a[0, 0], a[1, 1], a[2, 0]]))"
      ],
      "execution_count": null,
      "outputs": []
    },
    {
      "cell_type": "code",
      "metadata": {
        "id": "sTEFMjHFdriO",
        "colab_type": "code",
        "colab": {}
      },
      "source": [
        "# Можно использовать один и тот же элемент несколько раз\n",
        "print (a[[0, 0], [1, 1]])\n",
        "\n",
        "# Перепишем выражение выше иначе.\n",
        "print (np.array([a[0, 1], a[0, 1]]))"
      ],
      "execution_count": null,
      "outputs": []
    },
    {
      "cell_type": "markdown",
      "metadata": {
        "id": "GMawt3QCdriP",
        "colab_type": "text"
      },
      "source": [
        "Рассмотрим один полезный трюк с индексацией массивов: выбор или изменение одного элемента в каждой строке матрицы:"
      ]
    },
    {
      "cell_type": "code",
      "metadata": {
        "id": "jkKjb-n3driQ",
        "colab_type": "code",
        "colab": {}
      },
      "source": [
        "# Создадим новый массив\n",
        "a = np.array([[1,2,3], [4,5,6], [7,8,9], [10, 11, 12]])\n",
        "print (a)"
      ],
      "execution_count": null,
      "outputs": []
    },
    {
      "cell_type": "code",
      "metadata": {
        "id": "HdeLA-bXdriS",
        "colab_type": "code",
        "colab": {}
      },
      "source": [
        "# Создадим массив из индексов\n",
        "b = np.array([0, 2, 0, 1])\n",
        "\n",
        "#Выберем один элемент из каждой строки согласно массиву b\n",
        "print (a[np.arange(4), b])  # Prints \"[ 1  6  7 11]\""
      ],
      "execution_count": null,
      "outputs": []
    },
    {
      "cell_type": "code",
      "metadata": {
        "id": "jIgqpOxkdriT",
        "colab_type": "code",
        "colab": {}
      },
      "source": [
        "# Так же можно изменять элементы массива\n",
        "a[np.arange(4), b] += 10\n",
        "print (a)"
      ],
      "execution_count": null,
      "outputs": []
    },
    {
      "cell_type": "markdown",
      "metadata": {
        "id": "eo1WN3jodriU",
        "colab_type": "text"
      },
      "source": [
        "Рассмотрим индексацию по булевым значениям. Позволяет выбрать только те элементы массива, которые удовлетворяют каким - либо требованиям."
      ]
    },
    {
      "cell_type": "code",
      "metadata": {
        "id": "AvqF2yfEdriV",
        "colab_type": "code",
        "colab": {}
      },
      "source": [
        "import numpy as np\n",
        "\n",
        "a = np.array([[1,2], [3, 4], [5, 6]])\n",
        "\n",
        "bool_idx = (a > 2)  # Найдем все элементы массива которые больше 2;\n",
        "                    # получаем массив такой же размерности,\n",
        "                    # но состоящий из булевых значений,\n",
        "                    # показывающих удовлетворяет ли элемент условию или нет\n",
        "\n",
        "print (bool_idx)"
      ],
      "execution_count": null,
      "outputs": []
    },
    {
      "cell_type": "code",
      "metadata": {
        "id": "5Y7ZwPlGdriW",
        "colab_type": "code",
        "colab": {}
      },
      "source": [
        "# Теперь можно создать подмассив из значений, которые удовлетворяли нашему условию\n",
        "print (a[bool_idx])\n",
        "\n",
        "# А вот как можно это сделать быстрее и удобнее\n",
        "print (a[a > 2])"
      ],
      "execution_count": null,
      "outputs": []
    },
    {
      "cell_type": "markdown",
      "metadata": {
        "id": "DmW0KYYUdriX",
        "colab_type": "text"
      },
      "source": [
        "Это только самые основы индексации и срезов. Для получения более глубоких знаний необходимо обратиться к документации."
      ]
    },
    {
      "cell_type": "markdown",
      "metadata": {
        "id": "DXslnAm9driZ",
        "colab_type": "text"
      },
      "source": [
        "###Типы данных"
      ]
    },
    {
      "cell_type": "markdown",
      "metadata": {
        "id": "6MP1xcUFdriZ",
        "colab_type": "text"
      },
      "source": [
        "Каждый массив состоит из данных одного типа. Numpy предоставляет большой выбор типов данных, из которых можно создать массив. Numpy всегда будет пытаться угадать какой тип вы хотите использовать, но функции которые создают массивы так же принимают в качестве аргумента тот тип, который вам нужен. Рассмотрим на примере:"
      ]
    },
    {
      "cell_type": "code",
      "metadata": {
        "id": "eF8DdRQ7driZ",
        "colab_type": "code",
        "colab": {}
      },
      "source": [
        "x = np.array([1, 2])  # Позволим numpy самому выбрать тип данных\n",
        "y = np.array([1.0, 2.0])  # Позволим numpy самому выбрать тип данных\n",
        "z = np.array([1, 2], dtype=np.int64)  # Укажем определенный тип данных\n",
        "\n",
        "print (x.dtype, y.dtype, z.dtype)"
      ],
      "execution_count": null,
      "outputs": []
    },
    {
      "cell_type": "markdown",
      "metadata": {
        "id": "QKcoU9rjdrib",
        "colab_type": "text"
      },
      "source": [
        "Прочесть про все типы данных можно в [документации](http://docs.scipy.org/doc/numpy/reference/arrays.dtypes.html)."
      ]
    },
    {
      "cell_type": "markdown",
      "metadata": {
        "id": "wwtx00nbdrib",
        "colab_type": "text"
      },
      "source": [
        "###Математика массивов"
      ]
    },
    {
      "cell_type": "markdown",
      "metadata": {
        "id": "8hNAESiLdrib",
        "colab_type": "text"
      },
      "source": [
        "Так делается поэлементное сложение массивов:"
      ]
    },
    {
      "cell_type": "code",
      "metadata": {
        "id": "a6DfhN0sdric",
        "colab_type": "code",
        "colab": {}
      },
      "source": [
        "x = np.array([[1,2],[3,4]], dtype=np.float64)\n",
        "y = np.array([[5,6],[7,8]], dtype=np.float64)\n",
        "\n",
        "print (x + y)\n",
        "print (np.add(x, y))"
      ],
      "execution_count": null,
      "outputs": []
    },
    {
      "cell_type": "code",
      "metadata": {
        "id": "Z9Hi7GRmdrid",
        "colab_type": "code",
        "colab": {}
      },
      "source": [
        "# Поэлементное вычитание\n",
        "print (x - y)\n",
        "print (np.subtract(x, y))"
      ],
      "execution_count": null,
      "outputs": []
    },
    {
      "cell_type": "code",
      "metadata": {
        "id": "gQ_IIlfwdrif",
        "colab_type": "code",
        "colab": {}
      },
      "source": [
        "# Поэлементное умножение\n",
        "print (x * y)\n",
        "print (np.multiply(x, y))"
      ],
      "execution_count": null,
      "outputs": []
    },
    {
      "cell_type": "code",
      "metadata": {
        "id": "LeD4lmBGdrig",
        "colab_type": "code",
        "colab": {}
      },
      "source": [
        "# Поэлементное деление\n",
        "# [[ 0.2         0.33333333]\n",
        "#  [ 0.42857143  0.5       ]]\n",
        "print (x / y)\n",
        "print (np.divide(x, y))"
      ],
      "execution_count": null,
      "outputs": []
    },
    {
      "cell_type": "code",
      "metadata": {
        "id": "lWyymwVydrii",
        "colab_type": "code",
        "colab": {}
      },
      "source": [
        "# Поэлементное извлечение корня\n",
        "# [[ 1.          1.41421356]\n",
        "#  [ 1.73205081  2.        ]]\n",
        "print (np.sqrt(x))"
      ],
      "execution_count": null,
      "outputs": []
    },
    {
      "cell_type": "markdown",
      "metadata": {
        "id": "l9AXTFiIdrij",
        "colab_type": "text"
      },
      "source": [
        "Для получения произведения вектора на матрицу, или векторов используем отдельную фукнцию:"
      ]
    },
    {
      "cell_type": "code",
      "metadata": {
        "id": "rb574FKwdrij",
        "colab_type": "code",
        "colab": {}
      },
      "source": [
        "x = np.array([[1,2],[3,4]])\n",
        "y = np.array([[5,6],[7,8]])\n",
        "\n",
        "v = np.array([9,10])\n",
        "w = np.array([11, 12])\n",
        "\n",
        "# Разные способы получения произведения\n",
        "print (v.dot(w))\n",
        "print (np.dot(v, w))"
      ],
      "execution_count": null,
      "outputs": []
    },
    {
      "cell_type": "code",
      "metadata": {
        "id": "xe-C_Lr4drik",
        "colab_type": "code",
        "colab": {}
      },
      "source": [
        "# Матрица/вектор \n",
        "print (x.dot(v))\n",
        "print (np.dot(x, v))"
      ],
      "execution_count": null,
      "outputs": []
    },
    {
      "cell_type": "code",
      "metadata": {
        "id": "DWXzZ3BLdrin",
        "colab_type": "code",
        "colab": {}
      },
      "source": [
        "# Матрица на матрицу\n",
        "# [[19 22]\n",
        "#  [43 50]]\n",
        "print (x.dot(y))\n",
        "print (np.dot(x, y))"
      ],
      "execution_count": null,
      "outputs": []
    },
    {
      "cell_type": "markdown",
      "metadata": {
        "id": "m0RH-bn2drir",
        "colab_type": "text"
      },
      "source": [
        "Numpy предлагает много различных полезных функций для работы над матрицами, например `sum`:"
      ]
    },
    {
      "cell_type": "code",
      "metadata": {
        "id": "JWKcbN6Edrir",
        "colab_type": "code",
        "colab": {}
      },
      "source": [
        "x = np.array([[1,2],[3,4]])\n",
        "\n",
        "print (np.sum(x))  # Сумма всех элементов матрицы - \"10\"\n",
        "print (np.sum(x, axis=0))  # Сумма всех элементов каждого столбца \"[4 6]\"\n",
        "print (np.sum(x, axis=1))  # Сумма всех элементов каждой строки \"[3 7]\""
      ],
      "execution_count": null,
      "outputs": []
    },
    {
      "cell_type": "markdown",
      "metadata": {
        "id": "hb9gItv9dris",
        "colab_type": "text"
      },
      "source": [
        "Ознакомиться со всеми фукциями можно в [документации](http://docs.scipy.org/doc/numpy/reference/routines.math.html).\n",
        "\n",
        "Помимо математических операций над матрицами, также часто приходится совершать различные преобразования с матрицами, например, изменить их размерность или транспонировать:"
      ]
    },
    {
      "cell_type": "code",
      "metadata": {
        "id": "X3fjbmS7driv",
        "colab_type": "code",
        "colab": {}
      },
      "source": [
        "print (x)\n",
        "print (x.T)"
      ],
      "execution_count": null,
      "outputs": []
    },
    {
      "cell_type": "code",
      "metadata": {
        "id": "Sb0jnu8Vdriw",
        "colab_type": "code",
        "colab": {}
      },
      "source": [
        "v = np.array([[1,2,3]])\n",
        "print (v) \n",
        "print (v.T)"
      ],
      "execution_count": null,
      "outputs": []
    },
    {
      "cell_type": "markdown",
      "metadata": {
        "id": "-V_rCj5Zdrix",
        "colab_type": "text"
      },
      "source": [
        "###Broadcasting"
      ]
    },
    {
      "cell_type": "markdown",
      "metadata": {
        "id": "QaM21ZQzdrix",
        "colab_type": "text"
      },
      "source": [
        "Broadcasting - мощный механизм, благодаря которому Numpy может работать с матрицами разных размеров. Часто у нас есть маленький и большой массивы, и мы хотим использовать маленький массив для совершения операций с большим\n",
        "\n",
        "Например, мы хотим добавить вектор к каждой строке матрицы. Это можно сделать так:"
      ]
    },
    {
      "cell_type": "code",
      "metadata": {
        "id": "HGhaqV-Idriy",
        "colab_type": "code",
        "colab": {}
      },
      "source": [
        "# Добавим вектор v к каждой строке матрицы x,\n",
        "# сохраним результат в переменную y\n",
        "x = np.array([[1,2,3], [4,5,6], [7,8,9], [10, 11, 12]])\n",
        "v = np.array([1, 0, 1])\n",
        "y = np.empty_like(x)   # Создадим пустой массив той же формы что и x\n",
        "\n",
        "# Добавим вектор к матрице с помощью цикла:\n",
        "for i in range(4):\n",
        "    y[i, :] = x[i, :] + v\n",
        "\n",
        "print (y)"
      ],
      "execution_count": null,
      "outputs": []
    },
    {
      "cell_type": "markdown",
      "metadata": {
        "id": "8iFdgQ0Hdri0",
        "colab_type": "text"
      },
      "source": [
        "Сработало!; Однако если матрица `x` очень большая, проходить ее с помощью цикла может быть очень медленно. Заметьте, что добавление к каждой строке матрицы `x` вектора 'v' равнозначно созданию матрицы `vv`, расположив 2 вектора `v` рядом вертикально, затем сделать поэлментное сложение `x` и `vv`. Давайте реализуем этот подход:"
      ]
    },
    {
      "cell_type": "code",
      "metadata": {
        "id": "KcCzJhj3dri0",
        "colab_type": "code",
        "colab": {}
      },
      "source": [
        "vv = np.tile(v, (4, 1))  # Расположим 4 копии вектора V рядом\n",
        "print (vv)                 # Получим \"[[1 0 1]\n",
        "                         #          [1 0 1]\n",
        "                         #          [1 0 1]\n",
        "                         #          [1 0 1]]\""
      ],
      "execution_count": null,
      "outputs": []
    },
    {
      "cell_type": "code",
      "metadata": {
        "id": "xS6bAmwDdri1",
        "colab_type": "code",
        "colab": {}
      },
      "source": [
        "y = x + vv  # Сложим х и vv\n",
        "print (y)"
      ],
      "execution_count": null,
      "outputs": []
    },
    {
      "cell_type": "markdown",
      "metadata": {
        "id": "mpSVeJj0dri2",
        "colab_type": "text"
      },
      "source": [
        "Теперь давайте посмотрим на силу broadcasting. Нам необязательно создавать вектор vv чтобы сделать сложение x и v:"
      ]
    },
    {
      "cell_type": "code",
      "metadata": {
        "id": "6gdCZz12dri2",
        "colab_type": "code",
        "colab": {}
      },
      "source": [
        "import numpy as np\n",
        "\n",
        "# Добавим вектор v к каждой строке матрицы x,\n",
        "# сохраним результат в переменную y\n",
        "x = np.array([[1,2,3], [4,5,6], [7,8,9], [10, 11, 12]])\n",
        "v = np.array([1, 0, 1])\n",
        "y = x + v  # BROADCASTING\n",
        "print (y) # сравните результат с вычислением в цикле на пару ячеек выше"
      ],
      "execution_count": null,
      "outputs": []
    },
    {
      "cell_type": "markdown",
      "metadata": {
        "id": "Ghle4ojfdri3",
        "colab_type": "text"
      },
      "source": [
        "Подробнее про broadcasting прочитайте тут: https://pyprog.pro/broadcasting.html \n",
        "\n"
      ]
    },
    {
      "cell_type": "markdown",
      "metadata": {
        "id": "bR0DjADFdri-",
        "colab_type": "text"
      },
      "source": [
        "Broadcasting обычно работает очень быстро, поэтому старайтесь использовать его постоянно (при необходимости конечно)"
      ]
    },
    {
      "cell_type": "markdown",
      "metadata": {
        "id": "DG3nZ650dri-",
        "colab_type": "text"
      },
      "source": [
        "Это было небольшое введение в Numpy, но это, конечно же, далеко не все. На семинаре мы рассмотрим наиболее частые случаи, когда Numpy нужен в реальных кейсах, и порешаем задачки."
      ]
    }
  ]
}