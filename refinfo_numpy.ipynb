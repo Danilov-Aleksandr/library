{
  "nbformat": 4,
  "nbformat_minor": 0,
  "metadata": {
    "colab": {
      "name": "refinfo_numpy",
      "provenance": [],
      "collapsed_sections": [],
      "include_colab_link": true
    },
    "kernelspec": {
      "name": "python3",
      "display_name": "Python 3"
    }
  },
  "cells": [
    {
      "cell_type": "markdown",
      "metadata": {
        "id": "view-in-github",
        "colab_type": "text"
      },
      "source": [
        "<a href=\"https://colab.research.google.com/github/Danilov-Aleksandr/library/blob/master/refinfo_numpy.ipynb\" target=\"_parent\"><img src=\"https://colab.research.google.com/assets/colab-badge.svg\" alt=\"Open In Colab\"/></a>"
      ]
    },
    {
      "cell_type": "markdown",
      "metadata": {
        "id": "xeGqjnzIdrho",
        "colab_type": "text"
      },
      "source": [
        "##Numpy"
      ]
    },
    {
      "cell_type": "markdown",
      "metadata": {
        "id": "0Gw7Fen6drhp",
        "colab_type": "text"
      },
      "source": [
        "Сначала необходимо импортировать библиотеку:"
      ]
    },
    {
      "cell_type": "code",
      "metadata": {
        "id": "IVZNuYatdrhp",
        "colab_type": "code",
        "colab": {}
      },
      "source": [
        "import numpy as np"
      ],
      "execution_count": 1,
      "outputs": []
    },
    {
      "cell_type": "markdown",
      "metadata": {
        "id": "FjuNtOUudrhs",
        "colab_type": "text"
      },
      "source": [
        "###Arrays"
      ]
    },
    {
      "cell_type": "markdown",
      "metadata": {
        "id": "HrI2lnGfdrhs",
        "colab_type": "text"
      },
      "source": [
        "Numpy массив это матрица значений, одного типа и у каждого значения есть свой индекс, котороый не может быть отрицательным. Так же у каждой матрицы есть форма (shape), которая указывает сколько измерений у нашей матрицы.\n"
      ]
    },
    {
      "cell_type": "markdown",
      "metadata": {
        "id": "557BnU2ndrht",
        "colab_type": "text"
      },
      "source": [
        "Мы можем создать массив из обычного Python листа:"
      ]
    },
    {
      "cell_type": "code",
      "metadata": {
        "id": "3o8btobjdrht",
        "colab_type": "code",
        "colab": {
          "base_uri": "https://localhost:8080/",
          "height": 52
        },
        "outputId": "ccfc3eb8-e9a5-4f31-f630-2e31af5196ba"
      },
      "source": [
        "a = np.array([1, 2, 3])  # Создадим вектор\n",
        "print(type(a), a.shape, a[0], a[1], a[2])\n",
        "a[0] = 5                 # Попробуем поменять один из элементов вектора\n",
        "print (a)                  "
      ],
      "execution_count": 2,
      "outputs": [
        {
          "output_type": "stream",
          "text": [
            "<class 'numpy.ndarray'> (3,) 1 2 3\n",
            "[5 2 3]\n"
          ],
          "name": "stdout"
        }
      ]
    },
    {
      "cell_type": "code",
      "metadata": {
        "id": "yIxri-4Mdrhu",
        "colab_type": "code",
        "colab": {
          "base_uri": "https://localhost:8080/",
          "height": 52
        },
        "outputId": "dd00fcea-77ef-4f55-b1e5-21b168f0dbfe"
      },
      "source": [
        "b = np.array([[1,2,3],[4,5,6]])   # Создадим матрицу \n",
        "print (b)"
      ],
      "execution_count": 3,
      "outputs": [
        {
          "output_type": "stream",
          "text": [
            "[[1 2 3]\n",
            " [4 5 6]]\n"
          ],
          "name": "stdout"
        }
      ]
    },
    {
      "cell_type": "code",
      "metadata": {
        "id": "GuE_AK9Bdrhw",
        "colab_type": "code",
        "colab": {
          "base_uri": "https://localhost:8080/",
          "height": 52
        },
        "outputId": "837a50f9-d09f-48af-96c9-7eb3c8fa8a21"
      },
      "source": [
        "print (b.shape)                 \n",
        "print (b[0, 0], b[0, 1], b[1, 0])"
      ],
      "execution_count": 4,
      "outputs": [
        {
          "output_type": "stream",
          "text": [
            "(2, 3)\n",
            "1 2 4\n"
          ],
          "name": "stdout"
        }
      ]
    },
    {
      "cell_type": "markdown",
      "metadata": {
        "id": "29qf4iiudrhx",
        "colab_type": "text"
      },
      "source": [
        "Numpy так же предоставляет несколько функций для создания массивов:\n"
      ]
    },
    {
      "cell_type": "code",
      "metadata": {
        "id": "Yl8rgWzydrhy",
        "colab_type": "code",
        "colab": {
          "base_uri": "https://localhost:8080/",
          "height": 52
        },
        "outputId": "8443e449-595a-446b-a2c5-97478281d3a2"
      },
      "source": [
        "a = np.zeros((2,2))  # Создает массив из нулей\n",
        "print (a)"
      ],
      "execution_count": 5,
      "outputs": [
        {
          "output_type": "stream",
          "text": [
            "[[0. 0.]\n",
            " [0. 0.]]\n"
          ],
          "name": "stdout"
        }
      ]
    },
    {
      "cell_type": "code",
      "metadata": {
        "id": "kR7I89Gjdrhz",
        "colab_type": "code",
        "colab": {
          "base_uri": "https://localhost:8080/",
          "height": 35
        },
        "outputId": "e7de790d-5b7e-4516-ebf5-c485f278d934"
      },
      "source": [
        "b = np.ones((1,2))   # Создает массив из единиц\n",
        "print (b)"
      ],
      "execution_count": 6,
      "outputs": [
        {
          "output_type": "stream",
          "text": [
            "[[1. 1.]]\n"
          ],
          "name": "stdout"
        }
      ]
    },
    {
      "cell_type": "code",
      "metadata": {
        "id": "TagaT-hjdrh3",
        "colab_type": "code",
        "colab": {
          "base_uri": "https://localhost:8080/",
          "height": 52
        },
        "outputId": "912a1eb8-2e8b-49f5-e224-cb6cca17242d"
      },
      "source": [
        "c = np.full((2,2), 7) # Создает массив, заполненный опредленным числом\n",
        "print (c) "
      ],
      "execution_count": 7,
      "outputs": [
        {
          "output_type": "stream",
          "text": [
            "[[7 7]\n",
            " [7 7]]\n"
          ],
          "name": "stdout"
        }
      ]
    },
    {
      "cell_type": "code",
      "metadata": {
        "id": "TMcag5-Ydrh5",
        "colab_type": "code",
        "colab": {
          "base_uri": "https://localhost:8080/",
          "height": 52
        },
        "outputId": "356dc342-c7d8-4acd-e0e7-0377070cb3e4"
      },
      "source": [
        "d = np.eye(2)        # Создает единичную матрицу размерностью 2х2\n",
        "print (d)"
      ],
      "execution_count": 8,
      "outputs": [
        {
          "output_type": "stream",
          "text": [
            "[[1. 0.]\n",
            " [0. 1.]]\n"
          ],
          "name": "stdout"
        }
      ]
    },
    {
      "cell_type": "code",
      "metadata": {
        "id": "acj-LM5Bdrh6",
        "colab_type": "code",
        "colab": {
          "base_uri": "https://localhost:8080/",
          "height": 52
        },
        "outputId": "60e06757-22ee-4a4b-af38-520afc8c7e95"
      },
      "source": [
        "e = np.random.random((2,2)) # Создает матрицу указанной размерности, заполненную случайными значениями от 0 до 1.\n",
        "print (e)"
      ],
      "execution_count": 9,
      "outputs": [
        {
          "output_type": "stream",
          "text": [
            "[[0.10626386 0.48726535]\n",
            " [0.66421031 0.80467092]]\n"
          ],
          "name": "stdout"
        }
      ]
    },
    {
      "cell_type": "markdown",
      "metadata": {
        "id": "xOU3XXy4drh-",
        "colab_type": "text"
      },
      "source": [
        "###Индексация массивов"
      ]
    },
    {
      "cell_type": "markdown",
      "metadata": {
        "id": "JYHx8tgZdrh-",
        "colab_type": "text"
      },
      "source": [
        "Numpy предоставляет несколько способов индексации массивов."
      ]
    },
    {
      "cell_type": "markdown",
      "metadata": {
        "id": "uhRcyqaYdriA",
        "colab_type": "text"
      },
      "source": [
        "Срезы: Аналогично обычным Python спискам, от numpy массивов могут быть взяты \n",
        "срезы. Так как массивы могут быть многомерными, необходимо указывать границы среза для каждого измерения."
      ]
    },
    {
      "cell_type": "code",
      "metadata": {
        "id": "UMAik0wCdriB",
        "colab_type": "code",
        "colab": {
          "base_uri": "https://localhost:8080/",
          "height": 52
        },
        "outputId": "61a7263b-7f9c-460a-9f56-13d3fbc0e005"
      },
      "source": [
        "import numpy as np\n",
        "\n",
        "# Создадим двумерный массив размерностью (3, 4)\n",
        "# [[ 1  2  3  4]\n",
        "#  [ 5  6  7  8]\n",
        "#  [ 9 10 11 12]]\n",
        "a = np.array([[1,2,3,4], [5,6,7,8], [9,10,11,12]])\n",
        "\n",
        "# Используя срезы, получим подмассив, состоящий из первых  2 строк\n",
        "# и столбцов 1 и 2; полученный массив будет иметь размерность (2, 2):\n",
        "# Напоминаю, что нумерация в python начинается с 0.\n",
        "# [[2 3]\n",
        "#  [6 7]]\n",
        "b = a[:2, 1:3]\n",
        "print (b)"
      ],
      "execution_count": 10,
      "outputs": [
        {
          "output_type": "stream",
          "text": [
            "[[2 3]\n",
            " [6 7]]\n"
          ],
          "name": "stdout"
        }
      ]
    },
    {
      "cell_type": "markdown",
      "metadata": {
        "id": "9BLUW3oXdriE",
        "colab_type": "text"
      },
      "source": [
        "Срез - это часть массива, поэтому если мы изменим данные в срезе, то и исходный массив изменится."
      ]
    },
    {
      "cell_type": "code",
      "metadata": {
        "id": "4h3Ic-EgdriE",
        "colab_type": "code",
        "colab": {
          "base_uri": "https://localhost:8080/",
          "height": 52
        },
        "outputId": "51519330-4e83-4ba3-cc7e-edb66ced8a3e"
      },
      "source": [
        "print (a[0, 1] ) \n",
        "b[0, 0] = 77    # b[0, 0] это тоже самое что и a[0, 1]\n",
        "print (a[0, 1]) "
      ],
      "execution_count": 11,
      "outputs": [
        {
          "output_type": "stream",
          "text": [
            "2\n",
            "77\n"
          ],
          "name": "stdout"
        }
      ]
    },
    {
      "cell_type": "markdown",
      "metadata": {
        "id": "K2zH26O-driG",
        "colab_type": "text"
      },
      "source": [
        "Также можно комбинировать индексацию и срезы:"
      ]
    },
    {
      "cell_type": "code",
      "metadata": {
        "id": "E-4YpbF8driG",
        "colab_type": "code",
        "colab": {
          "base_uri": "https://localhost:8080/",
          "height": 69
        },
        "outputId": "bc05d2c9-0e3b-4380-e175-58fe3f1617ee"
      },
      "source": [
        "# Снова создадим матрицу размерностью (3, 4)\n",
        "a = np.array([[1,2,3,4], [5,6,7,8], [9,10,11,12]])\n",
        "print (a)"
      ],
      "execution_count": 12,
      "outputs": [
        {
          "output_type": "stream",
          "text": [
            "[[ 1  2  3  4]\n",
            " [ 5  6  7  8]\n",
            " [ 9 10 11 12]]\n"
          ],
          "name": "stdout"
        }
      ]
    },
    {
      "cell_type": "markdown",
      "metadata": {
        "id": "d_jTLduFdriH",
        "colab_type": "text"
      },
      "source": [
        "Рассмотрим различные способы создания срезов:\n"
      ]
    },
    {
      "cell_type": "code",
      "metadata": {
        "id": "_GU5b3ajdriI",
        "colab_type": "code",
        "colab": {
          "base_uri": "https://localhost:8080/",
          "height": 69
        },
        "outputId": "9c0d1f02-f46f-42a9-9b86-fc97ce8c1e29"
      },
      "source": [
        "row_r1 = a[1, :]     \n",
        "row_r2 = a[1:2, :]  \n",
        "row_r3 = a[[1], :]  \n",
        "print (row_r1, row_r1.shape) \n",
        "print (row_r2, row_r2.shape)\n",
        "print (row_r3, row_r3.shape)"
      ],
      "execution_count": 13,
      "outputs": [
        {
          "output_type": "stream",
          "text": [
            "[5 6 7 8] (4,)\n",
            "[[5 6 7 8]] (1, 4)\n",
            "[[5 6 7 8]] (1, 4)\n"
          ],
          "name": "stdout"
        }
      ]
    },
    {
      "cell_type": "code",
      "metadata": {
        "id": "TA9V62xIdriK",
        "colab_type": "code",
        "colab": {
          "base_uri": "https://localhost:8080/",
          "height": 87
        },
        "outputId": "6e6be640-3c6a-4d0c-c45e-18061db7cc01"
      },
      "source": [
        "# Аналогично можно сделать и со строками:\n",
        "col_r1 = a[:, 1]\n",
        "col_r2 = a[:, 1:2]\n",
        "print (col_r1, col_r1.shape)\n",
        "print (col_r2, col_r2.shape)"
      ],
      "execution_count": 14,
      "outputs": [
        {
          "output_type": "stream",
          "text": [
            "[ 2  6 10] (3,)\n",
            "[[ 2]\n",
            " [ 6]\n",
            " [10]] (3, 1)\n"
          ],
          "name": "stdout"
        }
      ]
    },
    {
      "cell_type": "markdown",
      "metadata": {
        "id": "Zp0CQ0u7driL",
        "colab_type": "text"
      },
      "source": [
        "Срез является частью исходного массива. Но вы можете использовать значения исходного массива для создания нового массива."
      ]
    },
    {
      "cell_type": "code",
      "metadata": {
        "id": "mqgeYJ14driM",
        "colab_type": "code",
        "colab": {
          "base_uri": "https://localhost:8080/",
          "height": 52
        },
        "outputId": "c6ed6398-bb86-4963-cf50-de1a6a595c29"
      },
      "source": [
        "a = np.array([[1,2], [3, 4], [5, 6]])\n",
        "\n",
        "# Рассмотрим пример\n",
        "# Получим массив размерностью (3, ) \n",
        "print (a[[0, 1, 2], [0, 1, 0]])\n",
        "\n",
        "# выражение выше можно записать немного по-другому\n",
        "print (np.array([a[0, 0], a[1, 1], a[2, 0]]))"
      ],
      "execution_count": 15,
      "outputs": [
        {
          "output_type": "stream",
          "text": [
            "[1 4 5]\n",
            "[1 4 5]\n"
          ],
          "name": "stdout"
        }
      ]
    },
    {
      "cell_type": "code",
      "metadata": {
        "id": "sTEFMjHFdriO",
        "colab_type": "code",
        "colab": {
          "base_uri": "https://localhost:8080/",
          "height": 52
        },
        "outputId": "dcbd9b8c-f81d-451b-f30e-178a4cfb3120"
      },
      "source": [
        "# Можно использовать один и тот же элемент несколько раз\n",
        "print (a[[0, 0], [1, 1]])\n",
        "\n",
        "# Перепишем выражение выше иначе.\n",
        "print (np.array([a[0, 1], a[0, 1]]))"
      ],
      "execution_count": 16,
      "outputs": [
        {
          "output_type": "stream",
          "text": [
            "[2 2]\n",
            "[2 2]\n"
          ],
          "name": "stdout"
        }
      ]
    },
    {
      "cell_type": "markdown",
      "metadata": {
        "id": "GMawt3QCdriP",
        "colab_type": "text"
      },
      "source": [
        "Рассмотрим один полезный трюк с индексацией массивов: выбор или изменение одного элемента в каждой строке матрицы:"
      ]
    },
    {
      "cell_type": "code",
      "metadata": {
        "id": "jkKjb-n3driQ",
        "colab_type": "code",
        "colab": {
          "base_uri": "https://localhost:8080/",
          "height": 87
        },
        "outputId": "dd0b9abd-153b-4940-d5b6-ee0d0b37da71"
      },
      "source": [
        "# Создадим новый массив\n",
        "a = np.array([[1,2,3], [4,5,6], [7,8,9], [10, 11, 12]])\n",
        "print (a)"
      ],
      "execution_count": 17,
      "outputs": [
        {
          "output_type": "stream",
          "text": [
            "[[ 1  2  3]\n",
            " [ 4  5  6]\n",
            " [ 7  8  9]\n",
            " [10 11 12]]\n"
          ],
          "name": "stdout"
        }
      ]
    },
    {
      "cell_type": "code",
      "metadata": {
        "id": "HdeLA-bXdriS",
        "colab_type": "code",
        "colab": {
          "base_uri": "https://localhost:8080/",
          "height": 35
        },
        "outputId": "1d693a13-9c4d-4daa-de08-0054c6e00b4a"
      },
      "source": [
        "# Создадим массив из индексов\n",
        "b = np.array([0, 2, 0, 1])\n",
        "\n",
        "#Выберем один элемент из каждой строки согласно массиву b\n",
        "print (a[np.arange(4), b])  # Prints \"[ 1  6  7 11]\""
      ],
      "execution_count": 18,
      "outputs": [
        {
          "output_type": "stream",
          "text": [
            "[ 1  6  7 11]\n"
          ],
          "name": "stdout"
        }
      ]
    },
    {
      "cell_type": "code",
      "metadata": {
        "id": "jIgqpOxkdriT",
        "colab_type": "code",
        "colab": {
          "base_uri": "https://localhost:8080/",
          "height": 87
        },
        "outputId": "64592ae1-3158-424b-e08b-1d575cdd1725"
      },
      "source": [
        "# Так же можно изменять элементы массива\n",
        "a[np.arange(4), b] += 10\n",
        "print (a)"
      ],
      "execution_count": 19,
      "outputs": [
        {
          "output_type": "stream",
          "text": [
            "[[11  2  3]\n",
            " [ 4  5 16]\n",
            " [17  8  9]\n",
            " [10 21 12]]\n"
          ],
          "name": "stdout"
        }
      ]
    },
    {
      "cell_type": "markdown",
      "metadata": {
        "id": "eo1WN3jodriU",
        "colab_type": "text"
      },
      "source": [
        "Рассмотрим индексацию по булевым значениям. Позволяет выбрать только те элементы массива, которые удовлетворяют каким - либо требованиям."
      ]
    },
    {
      "cell_type": "code",
      "metadata": {
        "id": "AvqF2yfEdriV",
        "colab_type": "code",
        "colab": {
          "base_uri": "https://localhost:8080/",
          "height": 69
        },
        "outputId": "bddf64a4-9e85-4224-c72b-61d9559273b7"
      },
      "source": [
        "import numpy as np\n",
        "\n",
        "a = np.array([[1,2], [3, 4], [5, 6]])\n",
        "\n",
        "bool_idx = (a > 2)  # Найдем все элементы массива которые больше 2;\n",
        "                    # получаем массив такой же размерности,\n",
        "                    # но состоящий из булевых значений,\n",
        "                    # показывающих удовлетворяет ли элемент условию или нет\n",
        "\n",
        "print (bool_idx)"
      ],
      "execution_count": 20,
      "outputs": [
        {
          "output_type": "stream",
          "text": [
            "[[False False]\n",
            " [ True  True]\n",
            " [ True  True]]\n"
          ],
          "name": "stdout"
        }
      ]
    },
    {
      "cell_type": "code",
      "metadata": {
        "id": "5Y7ZwPlGdriW",
        "colab_type": "code",
        "colab": {
          "base_uri": "https://localhost:8080/",
          "height": 52
        },
        "outputId": "0b05b045-3767-4b12-c48f-30cecbd1d504"
      },
      "source": [
        "# Теперь можно создать подмассив из значений, которые удовлетворяли нашему условию\n",
        "print (a[bool_idx])\n",
        "\n",
        "# А вот как можно это сделать быстрее и удобнее\n",
        "print (a[a > 2])"
      ],
      "execution_count": 21,
      "outputs": [
        {
          "output_type": "stream",
          "text": [
            "[3 4 5 6]\n",
            "[3 4 5 6]\n"
          ],
          "name": "stdout"
        }
      ]
    },
    {
      "cell_type": "markdown",
      "metadata": {
        "id": "DmW0KYYUdriX",
        "colab_type": "text"
      },
      "source": [
        "Это только самые основы индексации и срезов. Для получения более глубоких знаний необходимо обратиться к документации."
      ]
    },
    {
      "cell_type": "markdown",
      "metadata": {
        "id": "DXslnAm9driZ",
        "colab_type": "text"
      },
      "source": [
        "###Типы данных"
      ]
    },
    {
      "cell_type": "markdown",
      "metadata": {
        "id": "6MP1xcUFdriZ",
        "colab_type": "text"
      },
      "source": [
        "Каждый массив состоит из данных одного типа. Numpy предоставляет большой выбор типов данных, из которых можно создать массив. Numpy всегда будет пытаться угадать какой тип вы хотите использовать, но функции которые создают массивы так же принимают в качестве аргумента тот тип, который вам нужен. Рассмотрим на примере:"
      ]
    },
    {
      "cell_type": "code",
      "metadata": {
        "id": "eF8DdRQ7driZ",
        "colab_type": "code",
        "colab": {
          "base_uri": "https://localhost:8080/",
          "height": 35
        },
        "outputId": "cf70b61a-9b04-4bbd-be0b-012b2b780daa"
      },
      "source": [
        "x = np.array([1, 2])  # Позволим numpy самому выбрать тип данных\n",
        "y = np.array([1.0, 2.0])  # Позволим numpy самому выбрать тип данных\n",
        "z = np.array([1, 2], dtype=np.int64)  # Укажем определенный тип данных\n",
        "\n",
        "print (x.dtype, y.dtype, z.dtype)"
      ],
      "execution_count": 22,
      "outputs": [
        {
          "output_type": "stream",
          "text": [
            "int64 float64 int64\n"
          ],
          "name": "stdout"
        }
      ]
    },
    {
      "cell_type": "markdown",
      "metadata": {
        "id": "QKcoU9rjdrib",
        "colab_type": "text"
      },
      "source": [
        "Прочесть про все типы данных можно в [документации](http://docs.scipy.org/doc/numpy/reference/arrays.dtypes.html)."
      ]
    },
    {
      "cell_type": "markdown",
      "metadata": {
        "id": "wwtx00nbdrib",
        "colab_type": "text"
      },
      "source": [
        "###Математика массивов"
      ]
    },
    {
      "cell_type": "markdown",
      "metadata": {
        "id": "8hNAESiLdrib",
        "colab_type": "text"
      },
      "source": [
        "Так делается поэлементное сложение массивов:"
      ]
    },
    {
      "cell_type": "code",
      "metadata": {
        "id": "a6DfhN0sdric",
        "colab_type": "code",
        "colab": {
          "base_uri": "https://localhost:8080/",
          "height": 87
        },
        "outputId": "25eff8b4-f5ce-4621-f55b-7f296c4e4ffd"
      },
      "source": [
        "x = np.array([[1,2],[3,4]], dtype=np.float64)\n",
        "y = np.array([[5,6],[7,8]], dtype=np.float64)\n",
        "\n",
        "print (x + y)\n",
        "print (np.add(x, y))"
      ],
      "execution_count": 23,
      "outputs": [
        {
          "output_type": "stream",
          "text": [
            "[[ 6.  8.]\n",
            " [10. 12.]]\n",
            "[[ 6.  8.]\n",
            " [10. 12.]]\n"
          ],
          "name": "stdout"
        }
      ]
    },
    {
      "cell_type": "code",
      "metadata": {
        "id": "Z9Hi7GRmdrid",
        "colab_type": "code",
        "colab": {
          "base_uri": "https://localhost:8080/",
          "height": 87
        },
        "outputId": "e662cc6e-4a49-47dc-9322-35e2b983d8fd"
      },
      "source": [
        "# Поэлементное вычитание\n",
        "print (x - y)\n",
        "print (np.subtract(x, y))"
      ],
      "execution_count": 24,
      "outputs": [
        {
          "output_type": "stream",
          "text": [
            "[[-4. -4.]\n",
            " [-4. -4.]]\n",
            "[[-4. -4.]\n",
            " [-4. -4.]]\n"
          ],
          "name": "stdout"
        }
      ]
    },
    {
      "cell_type": "code",
      "metadata": {
        "id": "gQ_IIlfwdrif",
        "colab_type": "code",
        "colab": {
          "base_uri": "https://localhost:8080/",
          "height": 87
        },
        "outputId": "fec87746-b832-4c21-cd73-fbc9d720bc90"
      },
      "source": [
        "# Поэлементное умножение\n",
        "print (x * y)\n",
        "print (np.multiply(x, y))"
      ],
      "execution_count": 25,
      "outputs": [
        {
          "output_type": "stream",
          "text": [
            "[[ 5. 12.]\n",
            " [21. 32.]]\n",
            "[[ 5. 12.]\n",
            " [21. 32.]]\n"
          ],
          "name": "stdout"
        }
      ]
    },
    {
      "cell_type": "code",
      "metadata": {
        "id": "LeD4lmBGdrig",
        "colab_type": "code",
        "colab": {
          "base_uri": "https://localhost:8080/",
          "height": 87
        },
        "outputId": "dc75cb79-6088-46bd-b035-67f408d63233"
      },
      "source": [
        "# Поэлементное деление\n",
        "# [[ 0.2         0.33333333]\n",
        "#  [ 0.42857143  0.5       ]]\n",
        "print (x / y)\n",
        "print (np.divide(x, y))"
      ],
      "execution_count": 26,
      "outputs": [
        {
          "output_type": "stream",
          "text": [
            "[[0.2        0.33333333]\n",
            " [0.42857143 0.5       ]]\n",
            "[[0.2        0.33333333]\n",
            " [0.42857143 0.5       ]]\n"
          ],
          "name": "stdout"
        }
      ]
    },
    {
      "cell_type": "code",
      "metadata": {
        "id": "lWyymwVydrii",
        "colab_type": "code",
        "colab": {
          "base_uri": "https://localhost:8080/",
          "height": 52
        },
        "outputId": "ad2c1709-dde1-458c-cda0-79086ab48073"
      },
      "source": [
        "# Поэлементное извлечение корня\n",
        "# [[ 1.          1.41421356]\n",
        "#  [ 1.73205081  2.        ]]\n",
        "print (np.sqrt(x))"
      ],
      "execution_count": 27,
      "outputs": [
        {
          "output_type": "stream",
          "text": [
            "[[1.         1.41421356]\n",
            " [1.73205081 2.        ]]\n"
          ],
          "name": "stdout"
        }
      ]
    },
    {
      "cell_type": "markdown",
      "metadata": {
        "id": "l9AXTFiIdrij",
        "colab_type": "text"
      },
      "source": [
        "Для получения произведения вектора на матрицу, или векторов используем отдельную фукнцию:"
      ]
    },
    {
      "cell_type": "code",
      "metadata": {
        "id": "rb574FKwdrij",
        "colab_type": "code",
        "colab": {
          "base_uri": "https://localhost:8080/",
          "height": 52
        },
        "outputId": "f221f60d-97c9-4bd3-f606-172260deb77a"
      },
      "source": [
        "x = np.array([[1,2],[3,4]])\n",
        "y = np.array([[5,6],[7,8]])\n",
        "\n",
        "v = np.array([9,10])\n",
        "w = np.array([11, 12])\n",
        "\n",
        "# Разные способы получения произведения\n",
        "print (v.dot(w))\n",
        "print (np.dot(v, w))"
      ],
      "execution_count": 28,
      "outputs": [
        {
          "output_type": "stream",
          "text": [
            "219\n",
            "219\n"
          ],
          "name": "stdout"
        }
      ]
    },
    {
      "cell_type": "code",
      "metadata": {
        "id": "xe-C_Lr4drik",
        "colab_type": "code",
        "colab": {
          "base_uri": "https://localhost:8080/",
          "height": 52
        },
        "outputId": "20315a3f-502b-44af-d0d2-7c50d19366ae"
      },
      "source": [
        "# Матрица/вектор \n",
        "print (x.dot(v))\n",
        "print (np.dot(x, v))"
      ],
      "execution_count": 29,
      "outputs": [
        {
          "output_type": "stream",
          "text": [
            "[29 67]\n",
            "[29 67]\n"
          ],
          "name": "stdout"
        }
      ]
    },
    {
      "cell_type": "code",
      "metadata": {
        "id": "DWXzZ3BLdrin",
        "colab_type": "code",
        "colab": {
          "base_uri": "https://localhost:8080/",
          "height": 87
        },
        "outputId": "7cb52739-e8bd-4524-f9a3-c571eed6a5a6"
      },
      "source": [
        "# Матрица на матрицу\n",
        "# [[19 22]\n",
        "#  [43 50]]\n",
        "print (x.dot(y))\n",
        "print (np.dot(x, y))"
      ],
      "execution_count": 30,
      "outputs": [
        {
          "output_type": "stream",
          "text": [
            "[[19 22]\n",
            " [43 50]]\n",
            "[[19 22]\n",
            " [43 50]]\n"
          ],
          "name": "stdout"
        }
      ]
    },
    {
      "cell_type": "markdown",
      "metadata": {
        "id": "m0RH-bn2drir",
        "colab_type": "text"
      },
      "source": [
        "Numpy предлагает много различных полезных функций для работы над матрицами, например `sum`:"
      ]
    },
    {
      "cell_type": "code",
      "metadata": {
        "id": "JWKcbN6Edrir",
        "colab_type": "code",
        "colab": {
          "base_uri": "https://localhost:8080/",
          "height": 69
        },
        "outputId": "4c51918e-bc9c-4b69-871e-47e0eac952a9"
      },
      "source": [
        "x = np.array([[1,2],[3,4]])\n",
        "\n",
        "print (np.sum(x))  # Сумма всех элементов матрицы - \"10\"\n",
        "print (np.sum(x, axis=0))  # Сумма всех элементов каждого столбца \"[4 6]\"\n",
        "print (np.sum(x, axis=1))  # Сумма всех элементов каждой строки \"[3 7]\""
      ],
      "execution_count": 31,
      "outputs": [
        {
          "output_type": "stream",
          "text": [
            "10\n",
            "[4 6]\n",
            "[3 7]\n"
          ],
          "name": "stdout"
        }
      ]
    },
    {
      "cell_type": "markdown",
      "metadata": {
        "id": "hb9gItv9dris",
        "colab_type": "text"
      },
      "source": [
        "Ознакомиться со всеми фукциями можно в [документации](http://docs.scipy.org/doc/numpy/reference/routines.math.html).\n",
        "\n",
        "Помимо математических операций над матрицами, также часто приходится совершать различные преобразования с матрицами, например, изменить их размерность или транспонировать:"
      ]
    },
    {
      "cell_type": "code",
      "metadata": {
        "id": "X3fjbmS7driv",
        "colab_type": "code",
        "colab": {
          "base_uri": "https://localhost:8080/",
          "height": 87
        },
        "outputId": "0e2e8fc8-b236-4175-8a63-26914326f0c3"
      },
      "source": [
        "print (x)\n",
        "print (x.T)"
      ],
      "execution_count": 32,
      "outputs": [
        {
          "output_type": "stream",
          "text": [
            "[[1 2]\n",
            " [3 4]]\n",
            "[[1 3]\n",
            " [2 4]]\n"
          ],
          "name": "stdout"
        }
      ]
    },
    {
      "cell_type": "code",
      "metadata": {
        "id": "Sb0jnu8Vdriw",
        "colab_type": "code",
        "colab": {
          "base_uri": "https://localhost:8080/",
          "height": 87
        },
        "outputId": "a37f0acd-976d-4248-848a-93044abe28ff"
      },
      "source": [
        "v = np.array([[1,2,3]])\n",
        "print (v) \n",
        "print (v.T)"
      ],
      "execution_count": 33,
      "outputs": [
        {
          "output_type": "stream",
          "text": [
            "[[1 2 3]]\n",
            "[[1]\n",
            " [2]\n",
            " [3]]\n"
          ],
          "name": "stdout"
        }
      ]
    },
    {
      "cell_type": "markdown",
      "metadata": {
        "id": "-V_rCj5Zdrix",
        "colab_type": "text"
      },
      "source": [
        "###Broadcasting"
      ]
    },
    {
      "cell_type": "markdown",
      "metadata": {
        "id": "QaM21ZQzdrix",
        "colab_type": "text"
      },
      "source": [
        "Broadcasting - мощный механизм, благодаря которому Numpy может работать с матрицами разных размеров. Часто у нас есть маленький и большой массивы, и мы хотим использовать маленький массив для совершения операций с большим\n",
        "\n",
        "Например, мы хотим добавить вектор к каждой строке матрицы. Это можно сделать так:"
      ]
    },
    {
      "cell_type": "code",
      "metadata": {
        "id": "HGhaqV-Idriy",
        "colab_type": "code",
        "colab": {
          "base_uri": "https://localhost:8080/",
          "height": 87
        },
        "outputId": "015a8c0b-ee2e-44a0-b402-b385c2b20467"
      },
      "source": [
        "# Добавим вектор v к каждой строке матрицы x,\n",
        "# сохраним результат в переменную y\n",
        "x = np.array([[1,2,3], [4,5,6], [7,8,9], [10, 11, 12]])\n",
        "v = np.array([1, 0, 1])\n",
        "y = np.empty_like(x)   # Создадим пустой массив той же формы что и x\n",
        "\n",
        "# Добавим вектор к матрице с помощью цикла:\n",
        "for i in range(4):\n",
        "    y[i, :] = x[i, :] + v\n",
        "\n",
        "print (y)"
      ],
      "execution_count": 34,
      "outputs": [
        {
          "output_type": "stream",
          "text": [
            "[[ 2  2  4]\n",
            " [ 5  5  7]\n",
            " [ 8  8 10]\n",
            " [11 11 13]]\n"
          ],
          "name": "stdout"
        }
      ]
    },
    {
      "cell_type": "markdown",
      "metadata": {
        "id": "8iFdgQ0Hdri0",
        "colab_type": "text"
      },
      "source": [
        "Сработало!; Однако если матрица `x` очень большая, проходить ее с помощью цикла может быть очень медленно. Заметьте, что добавление к каждой строке матрицы `x` вектора 'v' равнозначно созданию матрицы `vv`, расположив 2 вектора `v` рядом вертикально, затем сделать поэлментное сложение `x` и `vv`. Давайте реализуем этот подход:"
      ]
    },
    {
      "cell_type": "code",
      "metadata": {
        "id": "KcCzJhj3dri0",
        "colab_type": "code",
        "colab": {
          "base_uri": "https://localhost:8080/",
          "height": 87
        },
        "outputId": "07402809-0566-45e0-8be8-c5f504a08b59"
      },
      "source": [
        "vv = np.tile(v, (4, 1))  # Расположим 4 копии вектора V рядом\n",
        "print (vv)                 # Получим \"[[1 0 1]\n",
        "                         #          [1 0 1]\n",
        "                         #          [1 0 1]\n",
        "                         #          [1 0 1]]\""
      ],
      "execution_count": 35,
      "outputs": [
        {
          "output_type": "stream",
          "text": [
            "[[1 0 1]\n",
            " [1 0 1]\n",
            " [1 0 1]\n",
            " [1 0 1]]\n"
          ],
          "name": "stdout"
        }
      ]
    },
    {
      "cell_type": "code",
      "metadata": {
        "id": "xS6bAmwDdri1",
        "colab_type": "code",
        "colab": {
          "base_uri": "https://localhost:8080/",
          "height": 87
        },
        "outputId": "b7ce46d3-cebb-42a2-d692-fed8219bf7b5"
      },
      "source": [
        "y = x + vv  # Сложим х и vv\n",
        "print (y)"
      ],
      "execution_count": 36,
      "outputs": [
        {
          "output_type": "stream",
          "text": [
            "[[ 2  2  4]\n",
            " [ 5  5  7]\n",
            " [ 8  8 10]\n",
            " [11 11 13]]\n"
          ],
          "name": "stdout"
        }
      ]
    },
    {
      "cell_type": "markdown",
      "metadata": {
        "id": "mpSVeJj0dri2",
        "colab_type": "text"
      },
      "source": [
        "Теперь давайте посмотрим на силу broadcasting. Нам необязательно создавать вектор vv чтобы сделать сложение x и v:"
      ]
    },
    {
      "cell_type": "code",
      "metadata": {
        "id": "6gdCZz12dri2",
        "colab_type": "code",
        "colab": {
          "base_uri": "https://localhost:8080/",
          "height": 87
        },
        "outputId": "c6cf04cb-61ae-496c-8b2e-668c5daeaa85"
      },
      "source": [
        "import numpy as np\n",
        "\n",
        "# Добавим вектор v к каждой строке матрицы x,\n",
        "# сохраним результат в переменную y\n",
        "x = np.array([[1,2,3], [4,5,6], [7,8,9], [10, 11, 12]])\n",
        "v = np.array([1, 0, 1])\n",
        "y = x + v  # BROADCASTING\n",
        "print (y) # сравните результат с вычислением в цикле на пару ячеек выше"
      ],
      "execution_count": 37,
      "outputs": [
        {
          "output_type": "stream",
          "text": [
            "[[ 2  2  4]\n",
            " [ 5  5  7]\n",
            " [ 8  8 10]\n",
            " [11 11 13]]\n"
          ],
          "name": "stdout"
        }
      ]
    },
    {
      "cell_type": "markdown",
      "metadata": {
        "id": "Ghle4ojfdri3",
        "colab_type": "text"
      },
      "source": [
        "Подробнее про broadcasting прочитайте тут: https://pyprog.pro/broadcasting.html \n",
        "\n"
      ]
    },
    {
      "cell_type": "markdown",
      "metadata": {
        "id": "bR0DjADFdri-",
        "colab_type": "text"
      },
      "source": [
        "Broadcasting обычно работает очень быстро, поэтому старайтесь использовать его постоянно (при необходимости конечно)"
      ]
    },
    {
      "cell_type": "markdown",
      "metadata": {
        "id": "DG3nZ650dri-",
        "colab_type": "text"
      },
      "source": [
        "Это было небольшое введение в Numpy, но это, конечно же, далеко не все. На семинаре мы рассмотрим наиболее частые случаи, когда Numpy нужен в реальных кейсах, и порешаем задачки."
      ]
    },
    {
      "cell_type": "markdown",
      "metadata": {
        "id": "RX5qsxhLVtFP",
        "colab_type": "text"
      },
      "source": [
        "# Фишки с семинара\n"
      ]
    },
    {
      "cell_type": "code",
      "metadata": {
        "id": "Xa84lfn0VxPC",
        "colab_type": "code",
        "colab": {
          "base_uri": "https://localhost:8080/",
          "height": 35
        },
        "outputId": "2fe3e6c7-cf3d-4891-be08-c9ac28d0b083"
      },
      "source": [
        "# найти индекс максимального значения в одномерном массиве:\n",
        "a = np.array([0.2, 0.4, -0.1, 0.5, 0.33, 0.9, 0.875, 0.14])\n",
        "np.argmax(a)"
      ],
      "execution_count": 38,
      "outputs": [
        {
          "output_type": "execute_result",
          "data": {
            "text/plain": [
              "5"
            ]
          },
          "metadata": {
            "tags": []
          },
          "execution_count": 38
        }
      ]
    },
    {
      "cell_type": "markdown",
      "metadata": {
        "id": "XALDwc_AWF7s",
        "colab_type": "text"
      },
      "source": [
        "Формула Z - масштабирования. Где где X - среднее значение, S - стандартное отклонение вычисленные для множества данных x\n",
        "![Замещающий текст](https://wikimedia.org/api/rest_v1/media/math/render/svg/3fae59e6af64fb5c102229fcf9034175bec85372)"
      ]
    },
    {
      "cell_type": "code",
      "metadata": {
        "id": "L-aLouvEWGme",
        "colab_type": "code",
        "colab": {
          "base_uri": "https://localhost:8080/",
          "height": 104
        },
        "outputId": "366243f9-34d4-43a9-c5ba-3b4912c6d45e"
      },
      "source": [
        "#создать 5х5 массив из рандомных значений и сделать Z-масштабирование\n",
        "Z = np.random.random((5,5))\n",
        "(Z - np.mean(Z) )/ np.std(Z)"
      ],
      "execution_count": 39,
      "outputs": [
        {
          "output_type": "execute_result",
          "data": {
            "text/plain": [
              "array([[-1.52186766, -0.50252179,  0.71992701, -0.71333174,  1.1912092 ],\n",
              "       [-0.10200421,  1.11106061,  2.04696076,  1.3810406 ,  0.41489899],\n",
              "       [ 0.18333881, -0.94747718, -0.61682636,  1.54151834, -1.25632811],\n",
              "       [-1.36910666,  0.37460486,  0.87069727, -0.67012583, -1.23446862],\n",
              "       [-0.56135653,  0.1145157 ,  0.22522588, -1.30123734,  0.62165402]])"
            ]
          },
          "metadata": {
            "tags": []
          },
          "execution_count": 39
        }
      ]
    },
    {
      "cell_type": "code",
      "metadata": {
        "id": "Gh7DYw53WIq8",
        "colab_type": "code",
        "colab": {
          "base_uri": "https://localhost:8080/",
          "height": 87
        },
        "outputId": "3209aeea-942e-47a3-8e89-af05c63e3493"
      },
      "source": [
        "#сделать все значения меньше 0 равными 0, а больше 10 равными 10\n",
        "a = np.random.randint(-2, 12, (4,5))\n",
        "np.clip(a, 0, 10)"
      ],
      "execution_count": 40,
      "outputs": [
        {
          "output_type": "execute_result",
          "data": {
            "text/plain": [
              "array([[ 4,  6,  6,  2,  7],\n",
              "       [ 9,  0,  9,  9,  4],\n",
              "       [ 9,  0,  0,  1,  2],\n",
              "       [10,  0,  0,  5,  0]])"
            ]
          },
          "metadata": {
            "tags": []
          },
          "execution_count": 40
        }
      ]
    },
    {
      "cell_type": "code",
      "metadata": {
        "id": "d9TYVcrfWJ-z",
        "colab_type": "code",
        "colab": {
          "base_uri": "https://localhost:8080/",
          "height": 35
        },
        "outputId": "c2fb766a-d092-4755-a06e-bed45d85c08c"
      },
      "source": [
        "#представим что у вас есть ч/б картинка размером 28x28, нужно добавить количество каналов = 1\n",
        "image = np.random.random(784).reshape(28,28)\n",
        "image_with_channel = image.reshape(28,28,1)\n",
        "image_with_channel.shape\n"
      ],
      "execution_count": 41,
      "outputs": [
        {
          "output_type": "execute_result",
          "data": {
            "text/plain": [
              "(28, 28, 1)"
            ]
          },
          "metadata": {
            "tags": []
          },
          "execution_count": 41
        }
      ]
    },
    {
      "cell_type": "code",
      "metadata": {
        "id": "CrvBjNN3WLK7",
        "colab_type": "code",
        "colab": {
          "base_uri": "https://localhost:8080/",
          "height": 35
        },
        "outputId": "e46e2b97-544c-435e-d8ef-7b03e1f41176"
      },
      "source": [
        "#как одной функцией удалить сразу все единичные размерности\n",
        "a = np.random.random(784).reshape(1,1,28,1,1,28)\n",
        "a.squeeze().shape"
      ],
      "execution_count": 42,
      "outputs": [
        {
          "output_type": "execute_result",
          "data": {
            "text/plain": [
              "(28, 28)"
            ]
          },
          "metadata": {
            "tags": []
          },
          "execution_count": 42
        }
      ]
    },
    {
      "cell_type": "code",
      "metadata": {
        "id": "rNM4LemYWMS-",
        "colab_type": "code",
        "colab": {
          "base_uri": "https://localhost:8080/",
          "height": 104
        },
        "outputId": "ba7e7556-4fab-4af4-8be6-1421baf67375"
      },
      "source": [
        "#создайте нулевой массив по форме другого:\n",
        "a = np.arange(10).reshape(5,2)\n",
        "\n",
        "labels = np.zeros_like(a)\n",
        "labels"
      ],
      "execution_count": 43,
      "outputs": [
        {
          "output_type": "execute_result",
          "data": {
            "text/plain": [
              "array([[0, 0],\n",
              "       [0, 0],\n",
              "       [0, 0],\n",
              "       [0, 0],\n",
              "       [0, 0]])"
            ]
          },
          "metadata": {
            "tags": []
          },
          "execution_count": 43
        }
      ]
    },
    {
      "cell_type": "code",
      "metadata": {
        "id": "zQmoU_xwWPdx",
        "colab_type": "code",
        "colab": {}
      },
      "source": [
        "#Напишем фукнцию активации. Возьмем сигмоиду.\n",
        "def sigmoid(x):\n",
        "    return 1/(1+np.exp(-x))\n",
        "\n"
      ],
      "execution_count": 44,
      "outputs": []
    },
    {
      "cell_type": "code",
      "metadata": {
        "id": "kWZA428OWT6v",
        "colab_type": "code",
        "colab": {
          "base_uri": "https://localhost:8080/",
          "height": 69
        },
        "outputId": "2a13db61-49e4-48fb-8989-8522f40b7753"
      },
      "source": [
        "#создайте 2 numpy array: один для входов, другой для выходов\n",
        "\n",
        "# набор входных данных\n",
        "X = np.array([  [0,0,1],\n",
        "                [1,1,1],\n",
        "                [1,0,1],\n",
        "                [0,1,1] ])\n",
        "    \n",
        "# выходные данные            \n",
        "y = np.array([[0,1,1,0]]).T\n",
        "\n",
        "\n",
        "# Установим сид, для лучшей воспроизводимости экспериментов\n",
        "np.random.seed(42)\n",
        "\n",
        "# инициализируем веса случайным образом со средним 0 в диапозоне [-1, 1]\n",
        "weights = 2*np.random.random((3,1)) - 1\n",
        "\n",
        "\n",
        "print(weights)"
      ],
      "execution_count": 45,
      "outputs": [
        {
          "output_type": "stream",
          "text": [
            "[[-0.25091976]\n",
            " [ 0.90142861]\n",
            " [ 0.46398788]]\n"
          ],
          "name": "stdout"
        }
      ]
    },
    {
      "cell_type": "code",
      "metadata": {
        "id": "Wl9WhVaaWVGn",
        "colab_type": "code",
        "colab": {
          "base_uri": "https://localhost:8080/",
          "height": 87
        },
        "outputId": "bd5182c7-e5f1-4d44-b224-dcb92ca1aa1d"
      },
      "source": [
        "inputs = X\n",
        "outputs = sigmoid(np.matmul(X, weights))\n",
        "print(outputs)"
      ],
      "execution_count": 46,
      "outputs": [
        {
          "output_type": "stream",
          "text": [
            "[[0.61395979]\n",
            " [0.75296649]\n",
            " [0.55306642]\n",
            " [0.79663861]]\n"
          ],
          "name": "stdout"
        }
      ]
    },
    {
      "cell_type": "code",
      "metadata": {
        "id": "jef13aIcWWwl",
        "colab_type": "code",
        "colab": {
          "base_uri": "https://localhost:8080/",
          "height": 104
        },
        "outputId": "d4805f8d-70b6-4a05-d662-560834b67631"
      },
      "source": [
        "for iter in range(20000):\n",
        "    # прямое распространение\n",
        "    inputs = X\n",
        "    outputs = sigmoid(np.matmul(inputs, weights))\n",
        "\n",
        "    # насколько мы ошиблись?\n",
        "    error = y - outputs\n",
        "    \n",
        "    #Магия градиентов (будет понятнее после следующего занятия, пока примите это как есть)\n",
        "    #можно объяснить пробек пропагейшн если есть желание\n",
        "    delta = error * (outputs * (1-outputs))\n",
        "    adjust = np.matmul(inputs.T, delta)\n",
        "\n",
        "    # обновим веса\n",
        "    weights = weights +  adjust\n",
        "\n",
        "#Проверим результаты\n",
        "print (\"Выходные данные после тренировки:\")\n",
        "print (outputs)\n"
      ],
      "execution_count": 47,
      "outputs": [
        {
          "output_type": "stream",
          "text": [
            "Выходные данные после тренировки:\n",
            "[[0.00679799]\n",
            " [0.99445494]\n",
            " [0.99548505]\n",
            " [0.00553642]]\n"
          ],
          "name": "stdout"
        }
      ]
    },
    {
      "cell_type": "code",
      "metadata": {
        "id": "TMoZIbgzWZRv",
        "colab_type": "code",
        "colab": {}
      },
      "source": [
        ""
      ],
      "execution_count": null,
      "outputs": []
    }
  ]
}